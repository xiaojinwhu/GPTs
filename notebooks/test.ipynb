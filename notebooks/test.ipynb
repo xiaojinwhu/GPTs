{
 "cells": [
  {
   "cell_type": "code",
   "execution_count": null,
   "metadata": {},
   "outputs": [],
   "source": [
    "import os\n",
    "\n",
    "import openai\n",
    "\n",
    "client = openai.Client(\n",
    "    api_key=os.getenv(\"OPENAI_API_KEY\"), base_url=os.getenv(\"OPENAI_API_BASE_URL\")\n",
    ")\n",
    "\n",
    "\n",
    "MODEL = os.getenv(\"MODEL\") or \"gpt-3.5-turbo\"\n",
    "\n",
    "\n",
    "content = \"统计所有生产厂家为辉瑞的感冒药数量\"\n",
    "\n",
    "messages = [{\"role\": \"user\", \"content\": content}]\n",
    "\n",
    "response = client.chat.completions.create(\n",
    "    model=MODEL,\n",
    "    tools=[\n",
    "        {\n",
    "            \"type\": \"function\",  # Tools can be of types code_interpreter, retrieval, or function.\n",
    "            \"function\": {\n",
    "                \"name\": \"excute_pandas_python_commend\",\n",
    "                \"description\": \"\",\n",
    "                \"parameters\": {\n",
    "                    \"type\": \"object\",\n",
    "                    \"properties\": {\n",
    "                        \"pandas_python_commend\": {\n",
    "                            \"type\": \"string\",\n",
    "                            \"description\": \"The python code of execute from dataframe by use pandas framework\",\n",
    "                        },\n",
    "                    },\n",
    "                    \"required\": [\"pandas_python_commend\"],\n",
    "                },\n",
    "            },\n",
    "        }\n",
    "    ],\n",
    "    tool_choice=\"auto\",\n",
    "    messages=messages,\n",
    ")"
   ]
  },
  {
   "cell_type": "code",
   "execution_count": null,
   "metadata": {},
   "outputs": [],
   "source": [
    "response.model_dump()"
   ]
  },
  {
   "cell_type": "code",
   "execution_count": null,
   "metadata": {},
   "outputs": [],
   "source": [
    "messages.append(\n",
    "    {\n",
    "        \"role\": \"assistant\",\n",
    "        \"content\": None,\n",
    "        \"function_call\": response.choices[0]\n",
    "        .message.tool_calls[0]\n",
    "        .function.model_dump(),\n",
    "    }\n",
    ")"
   ]
  },
  {
   "cell_type": "code",
   "execution_count": null,
   "metadata": {},
   "outputs": [],
   "source": [
    "messages"
   ]
  },
  {
   "cell_type": "code",
   "execution_count": null,
   "metadata": {},
   "outputs": [],
   "source": [
    "# 执行调用 api"
   ]
  },
  {
   "cell_type": "code",
   "execution_count": null,
   "metadata": {},
   "outputs": [],
   "source": [
    "message = {\"role\": \"function\", \"name\": \"pandas_python_commend\", \"content\": \"68\"}\n",
    "# ['system', 'assistant', 'user', 'function']\n",
    "\n",
    "messages.append(message)"
   ]
  },
  {
   "cell_type": "code",
   "execution_count": null,
   "metadata": {},
   "outputs": [],
   "source": [
    "messages[1]"
   ]
  },
  {
   "cell_type": "code",
   "execution_count": null,
   "metadata": {},
   "outputs": [],
   "source": [
    "response = client.chat.completions.create(\n",
    "    model=MODEL,\n",
    "    tools=[\n",
    "        {\n",
    "            \"type\": \"function\",  # Tools can be of types code_interpreter, retrieval, or function.\n",
    "            \"function\": {\n",
    "                \"name\": \"excute_pandas_python_commend\",\n",
    "                \"description\": \"\",\n",
    "                \"parameters\": {\n",
    "                    \"type\": \"object\",\n",
    "                    \"properties\": {\n",
    "                        \"pandas_python_commend\": {\n",
    "                            \"type\": \"string\",\n",
    "                            \"description\": \"The python code of execute from dataframe by use pandas framework\",\n",
    "                        },\n",
    "                    },\n",
    "                    \"required\": [\"pandas_python_commend\"],\n",
    "                },\n",
    "            },\n",
    "        }\n",
    "    ],\n",
    "    tool_choice=\"auto\",\n",
    "    messages=messages,\n",
    ")"
   ]
  },
  {
   "cell_type": "code",
   "execution_count": null,
   "metadata": {},
   "outputs": [],
   "source": [
    "response.model_dump()"
   ]
  },
  {
   "cell_type": "code",
   "execution_count": null,
   "metadata": {},
   "outputs": [],
   "source": []
  }
 ],
 "metadata": {
  "kernelspec": {
   "display_name": ".venv",
   "language": "python",
   "name": "python3"
  },
  "language_info": {
   "codemirror_mode": {
    "name": "ipython",
    "version": 3
   },
   "file_extension": ".py",
   "mimetype": "text/x-python",
   "name": "python",
   "nbconvert_exporter": "python",
   "pygments_lexer": "ipython3",
   "version": "3.10.12"
  }
 },
 "nbformat": 4,
 "nbformat_minor": 2
}
